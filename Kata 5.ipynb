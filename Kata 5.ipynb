{
 "cells": [
  {
   "cell_type": "code",
   "execution_count": 5,
   "metadata": {},
   "outputs": [
    {
     "name": "stdout",
     "output_type": "stream",
     "text": [
      "17\n"
     ]
    }
   ],
   "source": [
    "seconds = 1042\n",
    "display_minutes = 1042 // 60\n",
    "print(display_minutes)"
   ]
  },
  {
   "cell_type": "code",
   "execution_count": 8,
   "metadata": {},
   "outputs": [
    {
     "name": "stdout",
     "output_type": "stream",
     "text": [
      "17\n",
      "22\n"
     ]
    }
   ],
   "source": [
    "seconds = 1042\n",
    "display_minutes = 1042 // 60\n",
    "display_seconds = 1042 % 60\n",
    "\n",
    "print(display_minutes)\n",
    "print(display_seconds)"
   ]
  },
  {
   "cell_type": "code",
   "execution_count": 10,
   "metadata": {},
   "outputs": [
    {
     "name": "stdout",
     "output_type": "stream",
     "text": [
      "215\n"
     ]
    }
   ],
   "source": [
    "demo_int = int('215')\n",
    "print(demo_int)"
   ]
  },
  {
   "cell_type": "code",
   "execution_count": 11,
   "metadata": {},
   "outputs": [
    {
     "name": "stdout",
     "output_type": "stream",
     "text": [
      "215.3\n"
     ]
    }
   ],
   "source": [
    "demo_float = float('215.3')\n",
    "print(demo_float)"
   ]
  },
  {
   "cell_type": "code",
   "execution_count": 13,
   "metadata": {},
   "outputs": [
    {
     "name": "stdout",
     "output_type": "stream",
     "text": [
      "23\n",
      "-23\n"
     ]
    }
   ],
   "source": [
    "print(abs(39 - 16))\n",
    "print(abs(16 - 39))"
   ]
  },
  {
   "cell_type": "code",
   "execution_count": 14,
   "metadata": {},
   "outputs": [
    {
     "name": "stdout",
     "output_type": "stream",
     "text": [
      "13\n",
      "12\n"
     ]
    }
   ],
   "source": [
    "from math import ceil, floor\n",
    "\n",
    "round_up = ceil(12.5)\n",
    "print(round_up)\n",
    "\n",
    "round_down = floor(12.5)\n",
    "print(round_down)"
   ]
  },
  {
   "cell_type": "code",
   "execution_count": 15,
   "metadata": {},
   "outputs": [
    {
     "name": "stdout",
     "output_type": "stream",
     "text": [
      "628949330\n",
      "390577533.93\n"
     ]
    }
   ],
   "source": [
    "first_planet = 149597870\n",
    "second_planet = 778547200\n",
    "\n",
    "# Calcular la distancia entre planetas\n",
    "\n",
    "distance_km = second_planet - first_planet\n",
    "print(distance_km)\n",
    "\n",
    "distance_mi = distance_km * 0.621\n",
    "print(distance_mi)\n",
    "\n"
   ]
  },
  {
   "cell_type": "code",
   "execution_count": 1,
   "metadata": {},
   "outputs": [
    {
     "name": "stdout",
     "output_type": "stream",
     "text": [
      "-46000\n",
      "28566.0\n"
     ]
    }
   ],
   "source": [
    "# Almacenar las entradas del usuario\n",
    "first_planet = input('Introduzca la distancia del sol para el primer planeta en KM')\n",
    "second_planet = input('Introduzca la distancia desde el sol para el segundo planeta en KM')\n",
    "\n",
    "# Convierte las cadenas de ambos planetas a números enteros\n",
    "first_planet = int(first_planet)\n",
    "second_planet = int(second_planet)\n",
    "\n",
    "# Realizar el cálculo y determinar el valor absoluto\n",
    "distance_km = second_planet - first_planet\n",
    "print(distance_km)\n",
    "\n",
    "# Convertir de KM a Millas\n",
    "distance_mi = distance_km * 0.621\n",
    "print(abs(distance_mi))"
   ]
  },
  {
   "cell_type": "code",
   "execution_count": 9,
   "metadata": {},
   "outputs": [
    {
     "name": "stdout",
     "output_type": "stream",
     "text": [
      "1.6\n"
     ]
    }
   ],
   "source": [
    "x = -1.4\n",
    "y = 3\n",
    "\n",
    "result = x + y\n",
    "print(result)\n",
    "\n",
    "if result == 1.7:\n",
    "    print(\"Hola\")\n"
   ]
  },
  {
   "cell_type": "code",
   "execution_count": 26,
   "metadata": {},
   "outputs": [
    {
     "name": "stdout",
     "output_type": "stream",
     "text": [
      "Hola soy un programa de suma\n",
      "......................\n",
      "......................\n",
      "......................\n",
      "......................\n",
      "1 = suma\n",
      "suma\n",
      "El resultado es 4\n"
     ]
    }
   ],
   "source": [
    "suma = 1\n",
    "\n",
    "\n",
    "print(\"Hola soy un programa de suma\")\n",
    "print(\"......................\")\n",
    "print(\"......................\")\n",
    "print(\"......................\")\n",
    "print(\"......................\")\n",
    "print(\"1 = suma\")\n",
    "\n",
    "\n",
    "inicio = input(\"que quieres calcular\")\n",
    "if suma <= 1:\n",
    "    print(\"suma\")\n",
    "primer_numero = input(\"inrodusca su primer numero\")\n",
    "second_numero = input(\"introdusca su segundo numero\")\n",
    "primer_numero = int(second_numero)\n",
    "second_numero = int(primer_numero)\n",
    "\n",
    "resultado = primer_numero + second_numero\n",
    "print(\"El resultado es\",resultado)\n",
    "\n"
   ]
  }
 ],
 "metadata": {
  "interpreter": {
   "hash": "e632daf0e1f180afd88dcb80d60424e8dc76b06fd864ad2cb23906ab82f8f4bb"
  },
  "kernelspec": {
   "display_name": "Python 3.8.8",
   "language": "python",
   "name": "python3"
  },
  "language_info": {
   "codemirror_mode": {
    "name": "ipython",
    "version": 3
   },
   "file_extension": ".py",
   "mimetype": "text/x-python",
   "name": "python",
   "nbconvert_exporter": "python",
   "pygments_lexer": "ipython3",
   "version": "3.8.8"
  },
  "orig_nbformat": 4
 },
 "nbformat": 4,
 "nbformat_minor": 2
}
